{
 "cells": [
  {
   "cell_type": "code",
   "execution_count": 1,
   "id": "ad3cdbc8-dd50-4847-bc42-131dd31d53c8",
   "metadata": {},
   "outputs": [],
   "source": [
    "import pandas as pd\n",
    "import numpy as np\n",
    "import matplotlib.pyplot as plt\n",
    "import seaborn as sns"
   ]
  },
  {
   "cell_type": "code",
   "execution_count": 2,
   "id": "982212a0-fe81-4ad8-9bf2-9a8c43d4d120",
   "metadata": {},
   "outputs": [
    {
     "data": {
      "text/html": [
       "<div>\n",
       "<style scoped>\n",
       "    .dataframe tbody tr th:only-of-type {\n",
       "        vertical-align: middle;\n",
       "    }\n",
       "\n",
       "    .dataframe tbody tr th {\n",
       "        vertical-align: top;\n",
       "    }\n",
       "\n",
       "    .dataframe thead th {\n",
       "        text-align: right;\n",
       "    }\n",
       "</style>\n",
       "<table border=\"1\" class=\"dataframe\">\n",
       "  <thead>\n",
       "    <tr style=\"text-align: right;\">\n",
       "      <th></th>\n",
       "      <th>date</th>\n",
       "      <th>co</th>\n",
       "      <th>no</th>\n",
       "      <th>no2</th>\n",
       "      <th>o3</th>\n",
       "      <th>so2</th>\n",
       "      <th>pm2_5</th>\n",
       "      <th>pm10</th>\n",
       "      <th>nh3</th>\n",
       "    </tr>\n",
       "  </thead>\n",
       "  <tbody>\n",
       "    <tr>\n",
       "      <th>0</th>\n",
       "      <td>2023-01-01 00:00:00</td>\n",
       "      <td>1655.58</td>\n",
       "      <td>1.66</td>\n",
       "      <td>39.41</td>\n",
       "      <td>5.90</td>\n",
       "      <td>17.88</td>\n",
       "      <td>169.29</td>\n",
       "      <td>194.64</td>\n",
       "      <td>5.83</td>\n",
       "    </tr>\n",
       "    <tr>\n",
       "      <th>1</th>\n",
       "      <td>2023-01-01 01:00:00</td>\n",
       "      <td>1869.20</td>\n",
       "      <td>6.82</td>\n",
       "      <td>42.16</td>\n",
       "      <td>1.99</td>\n",
       "      <td>22.17</td>\n",
       "      <td>182.84</td>\n",
       "      <td>211.08</td>\n",
       "      <td>7.66</td>\n",
       "    </tr>\n",
       "    <tr>\n",
       "      <th>2</th>\n",
       "      <td>2023-01-01 02:00:00</td>\n",
       "      <td>2510.07</td>\n",
       "      <td>27.72</td>\n",
       "      <td>43.87</td>\n",
       "      <td>0.02</td>\n",
       "      <td>30.04</td>\n",
       "      <td>220.25</td>\n",
       "      <td>260.68</td>\n",
       "      <td>11.40</td>\n",
       "    </tr>\n",
       "    <tr>\n",
       "      <th>3</th>\n",
       "      <td>2023-01-01 03:00:00</td>\n",
       "      <td>3150.94</td>\n",
       "      <td>55.43</td>\n",
       "      <td>44.55</td>\n",
       "      <td>0.85</td>\n",
       "      <td>35.76</td>\n",
       "      <td>252.90</td>\n",
       "      <td>304.12</td>\n",
       "      <td>13.55</td>\n",
       "    </tr>\n",
       "    <tr>\n",
       "      <th>4</th>\n",
       "      <td>2023-01-01 04:00:00</td>\n",
       "      <td>3471.37</td>\n",
       "      <td>68.84</td>\n",
       "      <td>45.24</td>\n",
       "      <td>5.45</td>\n",
       "      <td>39.10</td>\n",
       "      <td>266.36</td>\n",
       "      <td>322.80</td>\n",
       "      <td>14.19</td>\n",
       "    </tr>\n",
       "  </tbody>\n",
       "</table>\n",
       "</div>"
      ],
      "text/plain": [
       "                  date       co     no    no2    o3    so2   pm2_5    pm10  \\\n",
       "0  2023-01-01 00:00:00  1655.58   1.66  39.41  5.90  17.88  169.29  194.64   \n",
       "1  2023-01-01 01:00:00  1869.20   6.82  42.16  1.99  22.17  182.84  211.08   \n",
       "2  2023-01-01 02:00:00  2510.07  27.72  43.87  0.02  30.04  220.25  260.68   \n",
       "3  2023-01-01 03:00:00  3150.94  55.43  44.55  0.85  35.76  252.90  304.12   \n",
       "4  2023-01-01 04:00:00  3471.37  68.84  45.24  5.45  39.10  266.36  322.80   \n",
       "\n",
       "     nh3  \n",
       "0   5.83  \n",
       "1   7.66  \n",
       "2  11.40  \n",
       "3  13.55  \n",
       "4  14.19  "
      ]
     },
     "execution_count": 2,
     "metadata": {},
     "output_type": "execute_result"
    }
   ],
   "source": [
    "df=pd.read_csv('delhiaqi.csv')\n",
    "df.head()"
   ]
  },
  {
   "cell_type": "code",
   "execution_count": 3,
   "id": "088d52b7-dc38-4172-86d6-f61c72be813e",
   "metadata": {},
   "outputs": [
    {
     "data": {
      "text/plain": [
       "(561, 9)"
      ]
     },
     "execution_count": 3,
     "metadata": {},
     "output_type": "execute_result"
    }
   ],
   "source": [
    "df.shape"
   ]
  },
  {
   "cell_type": "code",
   "execution_count": 4,
   "id": "80007e3f-5df0-4cf9-95e5-9602a0c62eeb",
   "metadata": {},
   "outputs": [
    {
     "name": "stdout",
     "output_type": "stream",
     "text": [
      "<class 'pandas.core.frame.DataFrame'>\n",
      "RangeIndex: 561 entries, 0 to 560\n",
      "Data columns (total 9 columns):\n",
      " #   Column  Non-Null Count  Dtype  \n",
      "---  ------  --------------  -----  \n",
      " 0   date    561 non-null    object \n",
      " 1   co      561 non-null    float64\n",
      " 2   no      561 non-null    float64\n",
      " 3   no2     561 non-null    float64\n",
      " 4   o3      561 non-null    float64\n",
      " 5   so2     561 non-null    float64\n",
      " 6   pm2_5   561 non-null    float64\n",
      " 7   pm10    561 non-null    float64\n",
      " 8   nh3     561 non-null    float64\n",
      "dtypes: float64(8), object(1)\n",
      "memory usage: 39.6+ KB\n"
     ]
    }
   ],
   "source": [
    "df.info()\n",
    "#wrt output since total entries is 561, therefore there are no null values"
   ]
  },
  {
   "cell_type": "code",
   "execution_count": 5,
   "id": "9ee54413-9717-4fd6-bba5-e1975d0e2d3a",
   "metadata": {},
   "outputs": [
    {
     "name": "stdout",
     "output_type": "stream",
     "text": [
      "date     0\n",
      "co       0\n",
      "no       0\n",
      "no2      0\n",
      "o3       0\n",
      "so2      0\n",
      "pm2_5    0\n",
      "pm10     0\n",
      "nh3      0\n",
      "dtype: int64\n"
     ]
    }
   ],
   "source": [
    "print(df.isnull().sum())"
   ]
  },
  {
   "cell_type": "code",
   "execution_count": 6,
   "id": "a031b120-ebe3-4330-bcc4-480ece71db80",
   "metadata": {},
   "outputs": [
    {
     "data": {
      "text/plain": [
       "Index(['date', 'co', 'no', 'no2', 'o3', 'so2', 'pm2_5', 'pm10', 'nh3'], dtype='object')"
      ]
     },
     "execution_count": 6,
     "metadata": {},
     "output_type": "execute_result"
    }
   ],
   "source": [
    "df.columns"
   ]
  },
  {
   "cell_type": "code",
   "execution_count": 7,
   "id": "7364d611-40e5-401b-b2d2-e1c5e2951b50",
   "metadata": {
    "scrolled": true
   },
   "outputs": [
    {
     "data": {
      "text/html": [
       "<div>\n",
       "<style scoped>\n",
       "    .dataframe tbody tr th:only-of-type {\n",
       "        vertical-align: middle;\n",
       "    }\n",
       "\n",
       "    .dataframe tbody tr th {\n",
       "        vertical-align: top;\n",
       "    }\n",
       "\n",
       "    .dataframe thead th {\n",
       "        text-align: right;\n",
       "    }\n",
       "</style>\n",
       "<table border=\"1\" class=\"dataframe\">\n",
       "  <thead>\n",
       "    <tr style=\"text-align: right;\">\n",
       "      <th></th>\n",
       "      <th>co</th>\n",
       "      <th>no</th>\n",
       "      <th>no2</th>\n",
       "      <th>o3</th>\n",
       "      <th>so2</th>\n",
       "      <th>pm2_5</th>\n",
       "      <th>pm10</th>\n",
       "      <th>nh3</th>\n",
       "    </tr>\n",
       "  </thead>\n",
       "  <tbody>\n",
       "    <tr>\n",
       "      <th>count</th>\n",
       "      <td>561.000000</td>\n",
       "      <td>561.000000</td>\n",
       "      <td>561.000000</td>\n",
       "      <td>561.000000</td>\n",
       "      <td>561.000000</td>\n",
       "      <td>561.000000</td>\n",
       "      <td>561.000000</td>\n",
       "      <td>561.000000</td>\n",
       "    </tr>\n",
       "    <tr>\n",
       "      <th>mean</th>\n",
       "      <td>3814.942210</td>\n",
       "      <td>51.181979</td>\n",
       "      <td>75.292496</td>\n",
       "      <td>30.141943</td>\n",
       "      <td>64.655936</td>\n",
       "      <td>358.256364</td>\n",
       "      <td>420.988414</td>\n",
       "      <td>26.425062</td>\n",
       "    </tr>\n",
       "    <tr>\n",
       "      <th>std</th>\n",
       "      <td>3227.744681</td>\n",
       "      <td>83.904476</td>\n",
       "      <td>42.473791</td>\n",
       "      <td>39.979405</td>\n",
       "      <td>61.073080</td>\n",
       "      <td>227.359117</td>\n",
       "      <td>271.287026</td>\n",
       "      <td>36.563094</td>\n",
       "    </tr>\n",
       "    <tr>\n",
       "      <th>min</th>\n",
       "      <td>654.220000</td>\n",
       "      <td>0.000000</td>\n",
       "      <td>13.370000</td>\n",
       "      <td>0.000000</td>\n",
       "      <td>5.250000</td>\n",
       "      <td>60.100000</td>\n",
       "      <td>69.080000</td>\n",
       "      <td>0.630000</td>\n",
       "    </tr>\n",
       "    <tr>\n",
       "      <th>25%</th>\n",
       "      <td>1708.980000</td>\n",
       "      <td>3.380000</td>\n",
       "      <td>44.550000</td>\n",
       "      <td>0.070000</td>\n",
       "      <td>28.130000</td>\n",
       "      <td>204.450000</td>\n",
       "      <td>240.900000</td>\n",
       "      <td>8.230000</td>\n",
       "    </tr>\n",
       "    <tr>\n",
       "      <th>50%</th>\n",
       "      <td>2590.180000</td>\n",
       "      <td>13.300000</td>\n",
       "      <td>63.750000</td>\n",
       "      <td>11.800000</td>\n",
       "      <td>47.210000</td>\n",
       "      <td>301.170000</td>\n",
       "      <td>340.900000</td>\n",
       "      <td>14.820000</td>\n",
       "    </tr>\n",
       "    <tr>\n",
       "      <th>75%</th>\n",
       "      <td>4432.680000</td>\n",
       "      <td>59.010000</td>\n",
       "      <td>97.330000</td>\n",
       "      <td>47.210000</td>\n",
       "      <td>77.250000</td>\n",
       "      <td>416.650000</td>\n",
       "      <td>482.570000</td>\n",
       "      <td>26.350000</td>\n",
       "    </tr>\n",
       "    <tr>\n",
       "      <th>max</th>\n",
       "      <td>16876.220000</td>\n",
       "      <td>425.580000</td>\n",
       "      <td>263.210000</td>\n",
       "      <td>164.510000</td>\n",
       "      <td>511.170000</td>\n",
       "      <td>1310.200000</td>\n",
       "      <td>1499.270000</td>\n",
       "      <td>267.510000</td>\n",
       "    </tr>\n",
       "  </tbody>\n",
       "</table>\n",
       "</div>"
      ],
      "text/plain": [
       "                 co          no         no2          o3         so2  \\\n",
       "count    561.000000  561.000000  561.000000  561.000000  561.000000   \n",
       "mean    3814.942210   51.181979   75.292496   30.141943   64.655936   \n",
       "std     3227.744681   83.904476   42.473791   39.979405   61.073080   \n",
       "min      654.220000    0.000000   13.370000    0.000000    5.250000   \n",
       "25%     1708.980000    3.380000   44.550000    0.070000   28.130000   \n",
       "50%     2590.180000   13.300000   63.750000   11.800000   47.210000   \n",
       "75%     4432.680000   59.010000   97.330000   47.210000   77.250000   \n",
       "max    16876.220000  425.580000  263.210000  164.510000  511.170000   \n",
       "\n",
       "             pm2_5         pm10         nh3  \n",
       "count   561.000000   561.000000  561.000000  \n",
       "mean    358.256364   420.988414   26.425062  \n",
       "std     227.359117   271.287026   36.563094  \n",
       "min      60.100000    69.080000    0.630000  \n",
       "25%     204.450000   240.900000    8.230000  \n",
       "50%     301.170000   340.900000   14.820000  \n",
       "75%     416.650000   482.570000   26.350000  \n",
       "max    1310.200000  1499.270000  267.510000  "
      ]
     },
     "execution_count": 7,
     "metadata": {},
     "output_type": "execute_result"
    }
   ],
   "source": [
    "df.describe()"
   ]
  },
  {
   "cell_type": "code",
   "execution_count": 8,
   "id": "b68bc672-d39c-4021-bc7e-be5175b928b3",
   "metadata": {},
   "outputs": [
    {
     "name": "stdout",
     "output_type": "stream",
     "text": [
      "<class 'pandas.core.frame.DataFrame'>\n",
      "RangeIndex: 561 entries, 0 to 560\n",
      "Data columns (total 9 columns):\n",
      " #   Column  Non-Null Count  Dtype         \n",
      "---  ------  --------------  -----         \n",
      " 0   date    561 non-null    datetime64[ns]\n",
      " 1   co      561 non-null    float64       \n",
      " 2   no      561 non-null    float64       \n",
      " 3   no2     561 non-null    float64       \n",
      " 4   o3      561 non-null    float64       \n",
      " 5   so2     561 non-null    float64       \n",
      " 6   pm2_5   561 non-null    float64       \n",
      " 7   pm10    561 non-null    float64       \n",
      " 8   nh3     561 non-null    float64       \n",
      "dtypes: datetime64[ns](1), float64(8)\n",
      "memory usage: 39.6 KB\n"
     ]
    }
   ],
   "source": [
    "df['date'] = pd.to_datetime(df['date'])\n",
    "df.info() \n",
    "#converting the date's data type from object to datetime"
   ]
  },
  {
   "cell_type": "code",
   "execution_count": 9,
   "id": "216391a8-aefa-4452-aea8-741d230b22cf",
   "metadata": {},
   "outputs": [
    {
     "data": {
      "text/plain": [
       "'Sunday'"
      ]
     },
     "execution_count": 9,
     "metadata": {},
     "output_type": "execute_result"
    }
   ],
   "source": [
    "df.loc[0,'date'].day_name()"
   ]
  },
  {
   "cell_type": "code",
   "execution_count": 10,
   "id": "ba2d5092-5894-477f-bf20-d0b5aa241e64",
   "metadata": {},
   "outputs": [
    {
     "data": {
      "text/plain": [
       "date\n",
       "2023-01-01    5929.152500\n",
       "2023-01-08    4190.683333\n",
       "2023-01-15    3649.632381\n",
       "2023-01-22    3262.321369\n",
       "2023-01-29    4019.390606\n",
       "Freq: W-SUN, Name: co, dtype: float64"
      ]
     },
     "execution_count": 10,
     "metadata": {},
     "output_type": "execute_result"
    }
   ],
   "source": [
    "df.groupby(pd.Grouper(key='date', axis=0, freq='1W', sort=True))['co'].mean()"
   ]
  },
  {
   "cell_type": "code",
   "execution_count": 11,
   "id": "31c4847a-1cd5-4ce0-936b-d2288ce91eda",
   "metadata": {},
   "outputs": [
    {
     "data": {
      "image/png": "[encoded data removed]",
      "text/plain": [
       "<Figure size 1500x900 with 1 Axes>"
      ]
     },
     "metadata": {},
     "output_type": "display_data"
    }
   ],
   "source": [
    "wm_co = df.groupby(pd.Grouper(key='date', freq='1W',sort=True))['co'].mean()\n",
    "wm_no = df.groupby(pd.Grouper(key='date', freq='1W',sort=True))['no'].mean()\n",
    "wm_no2= df.groupby(pd.Grouper(key='date', freq='1W',sort=True))['no2'].mean()\n",
    "wm_o3 = df.groupby(pd.Grouper(key='date', freq='1W',sort=True))['o3'].mean()\n",
    "wm_so2 = df.groupby(pd.Grouper(key='date', freq='1W',sort=True))['so2'].mean()\n",
    "wm_pm2_5 = df.groupby(pd.Grouper(key='date', freq='1W',sort=True))['pm2_5'].mean()\n",
    "wm_pm10 = df.groupby(pd.Grouper(key='date', freq='1W',sort=True))['pm10'].mean()\n",
    "wm_nh3 = df.groupby(pd.Grouper(key='date', freq='1W',sort=True))['nh3'].mean()\n",
    "plt.figure(figsize=(9,9))\n",
    "\n",
    "\n",
    "wm_co.plot(kind='line', figsize=(15,9))\n",
    "wm_no.plot(kind='line')\n",
    "wm_no2.plot(kind='line')\n",
    "wm_o3.plot(kind='line')\n",
    "wm_so2.plot(kind='line')\n",
    "wm_pm2_5.plot(kind='line')\n",
    "wm_pm10.plot(kind='line')\n",
    "wm_nh3.plot(kind='line')\n",
    "plt.legend()\n",
    "plt.show()"
   ]
  },
  {
   "cell_type": "markdown",
   "id": "ee416283-b36b-4f83-9878-8681bae28f5e",
   "metadata": {},
   "source": [
    "Regarding to the weekly concentration (mean, each week) of each pollutants:\n",
    "1. CO (carbon monoxide) has their conc ranging from 3000-6000 ppm range\n",
    "2. while the other pollutants have their concentrations remaining within 0-1000 ppm range"
   ]
  },
  {
   "cell_type": "code",
   "execution_count": 12,
   "id": "ce22b645-c1b8-4aff-b735-44109ab15fa7",
   "metadata": {},
   "outputs": [
    {
     "data": {
      "text/html": [
       "<div>\n",
       "<style scoped>\n",
       "    .dataframe tbody tr th:only-of-type {\n",
       "        vertical-align: middle;\n",
       "    }\n",
       "\n",
       "    .dataframe tbody tr th {\n",
       "        vertical-align: top;\n",
       "    }\n",
       "\n",
       "    .dataframe thead th {\n",
       "        text-align: right;\n",
       "    }\n",
       "</style>\n",
       "<table border=\"1\" class=\"dataframe\">\n",
       "  <thead>\n",
       "    <tr style=\"text-align: right;\">\n",
       "      <th></th>\n",
       "      <th>date</th>\n",
       "      <th>co</th>\n",
       "      <th>no</th>\n",
       "      <th>no2</th>\n",
       "      <th>o3</th>\n",
       "      <th>so2</th>\n",
       "      <th>pm2_5</th>\n",
       "      <th>pm10</th>\n",
       "      <th>nh3</th>\n",
       "      <th>hour</th>\n",
       "    </tr>\n",
       "  </thead>\n",
       "  <tbody>\n",
       "    <tr>\n",
       "      <th>0</th>\n",
       "      <td>2023-01-01 00:00:00</td>\n",
       "      <td>1655.58</td>\n",
       "      <td>1.66</td>\n",
       "      <td>39.41</td>\n",
       "      <td>5.90</td>\n",
       "      <td>17.88</td>\n",
       "      <td>169.29</td>\n",
       "      <td>194.64</td>\n",
       "      <td>5.83</td>\n",
       "      <td>0</td>\n",
       "    </tr>\n",
       "    <tr>\n",
       "      <th>1</th>\n",
       "      <td>2023-01-01 01:00:00</td>\n",
       "      <td>1869.20</td>\n",
       "      <td>6.82</td>\n",
       "      <td>42.16</td>\n",
       "      <td>1.99</td>\n",
       "      <td>22.17</td>\n",
       "      <td>182.84</td>\n",
       "      <td>211.08</td>\n",
       "      <td>7.66</td>\n",
       "      <td>1</td>\n",
       "    </tr>\n",
       "    <tr>\n",
       "      <th>2</th>\n",
       "      <td>2023-01-01 02:00:00</td>\n",
       "      <td>2510.07</td>\n",
       "      <td>27.72</td>\n",
       "      <td>43.87</td>\n",
       "      <td>0.02</td>\n",
       "      <td>30.04</td>\n",
       "      <td>220.25</td>\n",
       "      <td>260.68</td>\n",
       "      <td>11.40</td>\n",
       "      <td>2</td>\n",
       "    </tr>\n",
       "    <tr>\n",
       "      <th>3</th>\n",
       "      <td>2023-01-01 03:00:00</td>\n",
       "      <td>3150.94</td>\n",
       "      <td>55.43</td>\n",
       "      <td>44.55</td>\n",
       "      <td>0.85</td>\n",
       "      <td>35.76</td>\n",
       "      <td>252.90</td>\n",
       "      <td>304.12</td>\n",
       "      <td>13.55</td>\n",
       "      <td>3</td>\n",
       "    </tr>\n",
       "    <tr>\n",
       "      <th>4</th>\n",
       "      <td>2023-01-01 04:00:00</td>\n",
       "      <td>3471.37</td>\n",
       "      <td>68.84</td>\n",
       "      <td>45.24</td>\n",
       "      <td>5.45</td>\n",
       "      <td>39.10</td>\n",
       "      <td>266.36</td>\n",
       "      <td>322.80</td>\n",
       "      <td>14.19</td>\n",
       "      <td>4</td>\n",
       "    </tr>\n",
       "  </tbody>\n",
       "</table>\n",
       "</div>"
      ],
      "text/plain": [
       "                 date       co     no    no2    o3    so2   pm2_5    pm10  \\\n",
       "0 2023-01-01 00:00:00  1655.58   1.66  39.41  5.90  17.88  169.29  194.64   \n",
       "1 2023-01-01 01:00:00  1869.20   6.82  42.16  1.99  22.17  182.84  211.08   \n",
       "2 2023-01-01 02:00:00  2510.07  27.72  43.87  0.02  30.04  220.25  260.68   \n",
       "3 2023-01-01 03:00:00  3150.94  55.43  44.55  0.85  35.76  252.90  304.12   \n",
       "4 2023-01-01 04:00:00  3471.37  68.84  45.24  5.45  39.10  266.36  322.80   \n",
       "\n",
       "     nh3  hour  \n",
       "0   5.83     0  \n",
       "1   7.66     1  \n",
       "2  11.40     2  \n",
       "3  13.55     3  \n",
       "4  14.19     4  "
      ]
     },
     "execution_count": 12,
     "metadata": {},
     "output_type": "execute_result"
    }
   ],
   "source": [
    "df['hour']=df.date.dt.hour\n",
    "df.head()"
   ]
  },
  {
   "cell_type": "code",
   "execution_count": 13,
   "id": "57790aae-9c1f-4bb2-a847-0cc6b53aec43",
   "metadata": {},
   "outputs": [
    {
     "data": {
      "text/plain": [
       "<Axes: xlabel='hour'>"
      ]
     },
     "execution_count": 13,
     "metadata": {},
     "output_type": "execute_result"
    },
    {
     "data": {
      "image/png": "[encoded data removed]",
      "text/plain": [
       "<Figure size 640x480 with 1 Axes>"
      ]
     },
     "metadata": {},
     "output_type": "display_data"
    }
   ],
   "source": [
    "h_co=df.groupby('hour')['co'].mean()\n",
    "\n",
    "h_co.plot(kind='bar')"
   ]
  },
  {
   "cell_type": "code",
   "execution_count": 14,
   "id": "680d2323-7ea7-4769-80ce-5b7ab6423249",
   "metadata": {},
   "outputs": [
    {
     "data": {
      "text/plain": [
       "<Axes: xlabel='hour'>"
      ]
     },
     "execution_count": 14,
     "metadata": {},
     "output_type": "execute_result"
    },
    {
     "data": {
      "image/png": "[encoded data removed]",
      "text/plain": [
       "<Figure size 640x480 with 1 Axes>"
      ]
     },
     "metadata": {},
     "output_type": "display_data"
    }
   ],
   "source": [
    "h_no=df.groupby('hour')['no'].mean()\n",
    "h_no.plot(kind='bar')"
   ]
  },
  {
   "cell_type": "code",
   "execution_count": 15,
   "id": "1da24c5b-3d5b-4d04-93c9-927fc0742c51",
   "metadata": {},
   "outputs": [
    {
     "data": {
      "text/plain": [
       "<Axes: xlabel='hour'>"
      ]
     },
     "execution_count": 15,
     "metadata": {},
     "output_type": "execute_result"
    },
    {
     "data": {
      "image/png": "[encoded data removed]",
      "text/plain": [
       "<Figure size 640x480 with 1 Axes>"
      ]
     },
     "metadata": {},
     "output_type": "display_data"
    }
   ],
   "source": [
    "h_no2=df.groupby('hour')['no2'].mean()\n",
    "\n",
    "h_no2.plot(kind='bar')"
   ]
  },
  {
   "cell_type": "code",
   "execution_count": 16,
   "id": "8eecd9a4-4d4d-4f7b-a4c2-60aa249e1582",
   "metadata": {},
   "outputs": [
    {
     "data": {
      "text/plain": [
       "<Axes: xlabel='hour'>"
      ]
     },
     "execution_count": 16,
     "metadata": {},
     "output_type": "execute_result"
    },
    {
     "data": {
      "image/png": "[encoded data removed]",
      "text/plain": [
       "<Figure size 640x480 with 1 Axes>"
      ]
     },
     "metadata": {},
     "output_type": "display_data"
    }
   ],
   "source": [
    "h_o3=df.groupby('hour')['o3'].mean()\n",
    "\n",
    "h_o3.plot(kind='bar')"
   ]
  },
  {
   "cell_type": "code",
   "execution_count": 17,
   "id": "7e8cf258-2494-4e54-a84b-60bcfe97887e",
   "metadata": {},
   "outputs": [
    {
     "data": {
      "text/plain": [
       "<Axes: xlabel='hour'>"
      ]
     },
     "execution_count": 17,
     "metadata": {},
     "output_type": "execute_result"
    },
    {
     "data": {
      "image/png": "[encoded data removed]",
      "text/plain": [
       "<Figure size 640x480 with 1 Axes>"
      ]
     },
     "metadata": {},
     "output_type": "display_data"
    }
   ],
   "source": [
    "h_so2=df.groupby('hour')['so2'].mean()\n",
    "\n",
    "h_so2.plot(kind='bar')"
   ]
  },
  {
   "cell_type": "code",
   "execution_count": 18,
   "id": "bea3689b-c37e-43c1-8d9b-f0b92eeb2bfb",
   "metadata": {},
   "outputs": [
    {
     "data": {
      "text/plain": [
       "<Axes: xlabel='hour'>"
      ]
     },
     "execution_count": 18,
     "metadata": {},
     "output_type": "execute_result"
    },
    {
     "data": {
      "image/png": "[encoded data removed]",
      "text/plain": [
       "<Figure size 640x480 with 1 Axes>"
      ]
     },
     "metadata": {},
     "output_type": "display_data"
    }
   ],
   "source": [
    "h_pm2_5=df.groupby('hour')['pm2_5'].mean()\n",
    "\n",
    "h_pm2_5.plot(kind='bar')"
   ]
  },
  {
   "cell_type": "code",
   "execution_count": 19,
   "id": "8d883c9e-3482-4685-b250-a1481874f97e",
   "metadata": {},
   "outputs": [
    {
     "data": {
      "text/plain": [
       "<Axes: xlabel='hour'>"
      ]
     },
     "execution_count": 19,
     "metadata": {},
     "output_type": "execute_result"
    },
    {
     "data": {
      "image/png": "[encoded data removed]",
      "text/plain": [
       "<Figure size 640x480 with 1 Axes>"
      ]
     },
     "metadata": {},
     "output_type": "display_data"
    }
   ],
   "source": [
    "h_pm10=df.groupby('hour')['pm10'].mean()\n",
    "\n",
    "h_pm10.plot(kind='bar')"
   ]
  },
  {
   "cell_type": "code",
   "execution_count": 20,
   "id": "19498a63-b9cf-4b22-9aed-8c171abd83ed",
   "metadata": {},
   "outputs": [
    {
     "data": {
      "text/plain": [
       "<Axes: xlabel='hour'>"
      ]
     },
     "execution_count": 20,
     "metadata": {},
     "output_type": "execute_result"
    },
    {
     "data": {
      "image/png": "[encoded data removed]",
      "text/plain": [
       "<Figure size 640x480 with 1 Axes>"
      ]
     },
     "metadata": {},
     "output_type": "display_data"
    }
   ],
   "source": [
    "h_nh3=df.groupby('hour')['nh3'].mean()\n",
    "\n",
    "h_nh3.plot(kind='bar')"
   ]
  },
  {
   "cell_type": "code",
   "execution_count": 31,
   "id": "c5ef6e2e-8854-4330-9ab4-5703c033f347",
   "metadata": {},
   "outputs": [],
   "source": [
    "pollutants=['co','no','no2', 'o3', 'so2','pm2_5', 'pm10', 'nh3']\n",
    "\n",
    "corr_mat=df[pollutants].corr()"
   ]
  },
  {
   "cell_type": "code",
   "execution_count": null,
   "id": "8f6d5dfb-a850-4d42-94c2-a17c1b6972e5",
   "metadata": {},
   "outputs": [],
   "source": [
    "plt.figure(figsize=(13,10))\n",
    "sns.heatmap(corr_mat, annot=True, cmap='Reds', linewidths=2.0)\n",
    "plt.title('Correlation Heatmap of Pollutants', fontsize=16)\n",
    "\n",
    "plt.show()"
   ]
  },
  {
   "cell_type": "markdown",
   "id": "c537593c-e0fa-464e-b16a-68bac1c8427a",
   "metadata": {},
   "source": [
    "co related to pm10, pm 2.5, no"
   ]
  },
  {
   "cell_type": "code",
   "execution_count": 85,
   "id": "ca99c88e-96eb-46bd-9d23-3b7c5b00f9ea",
   "metadata": {},
   "outputs": [],
   "source": [
    "df[\"PM10_24hr_avg\"] = df.groupby(\"date\")[\"pm10\"].rolling(window = 24, min_periods = 1).mean().values\n",
    "df[\"PM2.5_24hr_avg\"] = df.groupby(\"date\")[\"pm2_5\"].rolling(window = 24, min_periods = 1).mean().values\n",
    "df[\"SO2_24hr_avg\"] = df.groupby(\"date\")[\"so2\"].rolling(window = 24, min_periods = 1).mean().values\n",
    "df[\"NOx_24hr_avg\"] = df.groupby(\"date\")[\"no2\"].rolling(window = 24, min_periods = 1).mean().values\n",
    "df[\"NH3_24hr_avg\"] = df.groupby(\"date\")[\"nh3\"].rolling(window = 24, min_periods = 1).mean().values\n",
    "df[\"CO_8hr_max\"] = df.groupby(\"date\")[\"co\"].rolling(window = 8, min_periods = 1).max().values\n",
    "df[\"O3_8hr_max\"] = df.groupby(\"date\")[\"o3\"].rolling(window = 8, min_periods = 1).max().values"
   ]
  },
  {
   "cell_type": "code",
   "execution_count": 108,
   "id": "76d3e15f-acc4-4334-93a3-e369599cb0b1",
   "metadata": {},
   "outputs": [],
   "source": [
    "def get_PM25_subindex(x):\n",
    "    breakpoints = [(0, 30, 0, 50), (31, 60, 51, 100), (61, 90, 101, 200),\n",
    "                   (91, 120, 201, 300), (121, 250, 301, 400), (251, 500, 401, 500)]\n",
    "    for bp_lo, bp_hi, i_lo, i_hi in breakpoints:\n",
    "        if bp_lo <= x <= bp_hi:\n",
    "            return ((i_hi - i_lo) / (bp_hi - bp_lo)) * (x - bp_lo) + i_lo\n",
    "    return None\n"
   ]
  },
  {
   "cell_type": "code",
   "execution_count": 109,
   "id": "e4221052-3ce2-46f5-88eb-7bbd8339e11a",
   "metadata": {},
   "outputs": [],
   "source": [
    "def get_PM10_subindex(x):\n",
    "    breakpoints = [(0, 50, 0, 50), (51, 100, 51, 100), (101, 250, 101, 200),\n",
    "                   (251, 350, 201, 300), (351, 430, 301, 400), (431, 600, 401, 500)]\n",
    "    for bp_lo, bp_hi, i_lo, i_hi in breakpoints:\n",
    "        if bp_lo <= x <= bp_hi:\n",
    "            return ((i_hi - i_lo) / (bp_hi - bp_lo)) * (x - bp_lo) + i_lo\n",
    "    return None\n"
   ]
  },
  {
   "cell_type": "code",
   "execution_count": 110,
   "id": "0d150bdb-eb10-4d89-9677-74f512dc24f8",
   "metadata": {},
   "outputs": [],
   "source": [
    "def get_NO2_subindex(x):\n",
    "    breakpoints = [(0, 40, 0, 50), (41, 80, 51, 100), (81, 180, 101, 200),\n",
    "                   (181, 280, 201, 300), (281, 400, 301, 400), (401, 500, 401, 500)]\n",
    "    for bp_lo, bp_hi, i_lo, i_hi in breakpoints:\n",
    "        if bp_lo <= x <= bp_hi:\n",
    "            return ((i_hi - i_lo) / (bp_hi - bp_lo)) * (x - bp_lo) + i_lo\n",
    "    return None\n"
   ]
  },
  {
   "cell_type": "code",
   "execution_count": 111,
   "id": "26dfba38-86d4-4a51-af3d-7e42d7879381",
   "metadata": {},
   "outputs": [],
   "source": [
    "def get_SO2_subindex(x):\n",
    "    breakpoints = [(0, 40, 0, 50), (41, 80, 51, 100), (81, 380, 101, 200),\n",
    "                   (381, 800, 201, 300), (801, 1600, 301, 400), (1601, 2100, 401, 500)]\n",
    "    for bp_lo, bp_hi, i_lo, i_hi in breakpoints:\n",
    "        if bp_lo <= x <= bp_hi:\n",
    "            return ((i_hi - i_lo) / (bp_hi - bp_lo)) * (x - bp_lo) + i_lo\n",
    "    return None\n"
   ]
  },
  {
   "cell_type": "code",
   "execution_count": 112,
   "id": "e8ba4fa3-fbb1-4de9-ba3c-45add3029d66",
   "metadata": {},
   "outputs": [],
   "source": [
    "def get_CO_subindex(x):\n",
    "    breakpoints = [(0, 1, 0, 50), (1.1, 2, 51, 100), (2.1, 10, 101, 200),\n",
    "                   (10.1, 17, 201, 300), (17.1, 34, 301, 400), (34.1, 50, 401, 500)]\n",
    "    for bp_lo, bp_hi, i_lo, i_hi in breakpoints:\n",
    "        if bp_lo <= x <= bp_hi:\n",
    "            return ((i_hi - i_lo) / (bp_hi - bp_lo)) * (x - bp_lo) + i_lo\n",
    "    return None\n"
   ]
  },
  {
   "cell_type": "code",
   "execution_count": 113,
   "id": "e32be881-8205-4fab-8e4a-2b0cf4bb726d",
   "metadata": {},
   "outputs": [],
   "source": [
    "def get_O3_subindex(x):\n",
    "    breakpoints = [(0, 50, 0, 50), (51, 100, 51, 100), (101, 168, 101, 200),\n",
    "                   (169, 208, 201, 300), (209, 748, 301, 400), (749, 1000, 401, 500)]\n",
    "    for bp_lo, bp_hi, i_lo, i_hi in breakpoints:\n",
    "        if bp_lo <= x <= bp_hi:\n",
    "            return ((i_hi - i_lo) / (bp_hi - bp_lo)) * (x - bp_lo) + i_lo\n",
    "    return None\n"
   ]
  },
  {
   "cell_type": "code",
   "execution_count": 114,
   "id": "997088f9-bae9-4d96-b272-fee9d94f7aa0",
   "metadata": {},
   "outputs": [],
   "source": [
    "def get_NH3_subindex(x):\n",
    "    breakpoints = [(0, 200, 0, 50), (201, 400, 51, 100), (401, 800, 101, 200),\n",
    "                   (801, 1200, 201, 300), (1201, 1800, 301, 400), (1801, 2400, 401, 500)]\n",
    "    for bp_lo, bp_hi, i_lo, i_hi in breakpoints:\n",
    "        if bp_lo <= x <= bp_hi:\n",
    "            return ((i_hi - i_lo) / (bp_hi - bp_lo)) * (x - bp_lo) + i_lo\n",
    "    return None\n"
   ]
  },
  {
   "cell_type": "code",
   "execution_count": 116,
   "id": "179d2225-50cc-42e9-bfcf-b4bdcc3f0894",
   "metadata": {},
   "outputs": [],
   "source": [
    "df[\"PM2.5_SubIndex\"] = df[\"PM2.5_24hr_avg\"].apply(get_PM25_subindex)\n",
    "df[\"PM10_SubIndex\"]  = df[\"PM10_24hr_avg\"].apply(get_PM10_subindex)\n",
    "df[\"NOx_SubIndex\"]   = df[\"NOx_24hr_avg\"].apply(get_NO2_subindex)\n",
    "df[\"SO2_SubIndex\"]   = df[\"SO2_24hr_avg\"].apply(get_SO2_subindex)\n",
    "df[\"CO_SubIndex\"]    = df[\"CO_8hr_max\"].apply(get_CO_subindex)\n",
    "df[\"O3_SubIndex\"]    = df[\"O3_8hr_max\"].apply(get_O3_subindex)\n",
    "df[\"NH3_SubIndex\"]   = df[\"NH3_24hr_avg\"].apply(get_NH3_subindex)\n"
   ]
  },
  {
   "cell_type": "code",
   "execution_count": 117,
   "id": "9ac01511-bccc-4fbf-9393-717e9a895656",
   "metadata": {},
   "outputs": [],
   "source": [
    "df[\"Checks\"] = (\n",
    "    (df[\"PM2.5_SubIndex\"] > 0).astype(int) +\n",
    "    (df[\"PM10_SubIndex\"] > 0).astype(int) +\n",
    "    (df[\"SO2_SubIndex\"] > 0).astype(int) +\n",
    "    (df[\"NOx_SubIndex\"] > 0).astype(int) +\n",
    "    (df[\"NH3_SubIndex\"] > 0).astype(int) +\n",
    "    (df[\"CO_SubIndex\"] > 0).astype(int) +\n",
    "    (df[\"O3_SubIndex\"] > 0).astype(int)\n",
    ")\n"
   ]
  },
  {
   "cell_type": "code",
   "execution_count": 118,
   "id": "c54f4b3a-356b-4b62-ab16-4f4e560f109e",
   "metadata": {},
   "outputs": [],
   "source": [
    "df[\"AQI_calculated\"] = df[[\n",
    "    \"PM2.5_SubIndex\", \"PM10_SubIndex\", \"SO2_SubIndex\", \"NOx_SubIndex\",\n",
    "    \"NH3_SubIndex\", \"CO_SubIndex\", \"O3_SubIndex\"\n",
    "]].max(axis=1).round()\n"
   ]
  },
  {
   "cell_type": "code",
   "execution_count": 119,
   "id": "4e37c845-4e1b-4973-bdeb-c50dce9db387",
   "metadata": {},
   "outputs": [],
   "source": [
    "def get_AQI_bucket(x):\n",
    "    if pd.isna(x): return np.nan\n",
    "    if x <= 50: return \"Good\"\n",
    "    elif x <= 100: return \"Satisfactory\"\n",
    "    elif x <= 200: return \"Moderate\"\n",
    "    elif x <= 300: return \"Poor\"\n",
    "    elif x <= 400: return \"Very Poor\"\n",
    "    else: return \"Severe\"\n",
    "\n",
    "df[\"AQI_bucket_calculated\"] = df[\"AQI_calculated\"].apply(get_AQI_bucket)\n"
   ]
  },
  {
   "cell_type": "code",
   "execution_count": 124,
   "id": "6ff4bfa3-f6cd-4ce0-b3d6-9d8b96629b3a",
   "metadata": {},
   "outputs": [
    {
     "data": {
      "text/html": [
       "<div>\n",
       "<style scoped>\n",
       "    .dataframe tbody tr th:only-of-type {\n",
       "        vertical-align: middle;\n",
       "    }\n",
       "\n",
       "    .dataframe tbody tr th {\n",
       "        vertical-align: top;\n",
       "    }\n",
       "\n",
       "    .dataframe thead th {\n",
       "        text-align: right;\n",
       "    }\n",
       "</style>\n",
       "<table border=\"1\" class=\"dataframe\">\n",
       "  <thead>\n",
       "    <tr style=\"text-align: right;\">\n",
       "      <th></th>\n",
       "      <th>date</th>\n",
       "      <th>AQI_calculated</th>\n",
       "      <th>AQI_bucket_calculated</th>\n",
       "    </tr>\n",
       "  </thead>\n",
       "  <tbody>\n",
       "    <tr>\n",
       "      <th>0</th>\n",
       "      <td>2023-01-01 00:00:00</td>\n",
       "      <td>338.059767</td>\n",
       "      <td>Very Poor</td>\n",
       "    </tr>\n",
       "    <tr>\n",
       "      <th>1</th>\n",
       "      <td>2023-01-01 01:00:00</td>\n",
       "      <td>348.458605</td>\n",
       "      <td>Very Poor</td>\n",
       "    </tr>\n",
       "    <tr>\n",
       "      <th>2</th>\n",
       "      <td>2023-01-01 02:00:00</td>\n",
       "      <td>377.168605</td>\n",
       "      <td>Very Poor</td>\n",
       "    </tr>\n",
       "    <tr>\n",
       "      <th>3</th>\n",
       "      <td>2023-01-01 03:00:00</td>\n",
       "      <td>401.755422</td>\n",
       "      <td>Severe</td>\n",
       "    </tr>\n",
       "    <tr>\n",
       "      <th>4</th>\n",
       "      <td>2023-01-01 04:00:00</td>\n",
       "      <td>407.106988</td>\n",
       "      <td>Severe</td>\n",
       "    </tr>\n",
       "    <tr>\n",
       "      <th>5</th>\n",
       "      <td>2023-01-01 05:00:00</td>\n",
       "      <td>411.154458</td>\n",
       "      <td>Severe</td>\n",
       "    </tr>\n",
       "    <tr>\n",
       "      <th>6</th>\n",
       "      <td>2023-01-01 06:00:00</td>\n",
       "      <td>418.653012</td>\n",
       "      <td>Severe</td>\n",
       "    </tr>\n",
       "    <tr>\n",
       "      <th>7</th>\n",
       "      <td>2023-01-01 07:00:00</td>\n",
       "      <td>330.032326</td>\n",
       "      <td>Very Poor</td>\n",
       "    </tr>\n",
       "    <tr>\n",
       "      <th>8</th>\n",
       "      <td>2023-01-01 08:00:00</td>\n",
       "      <td>311.276047</td>\n",
       "      <td>Very Poor</td>\n",
       "    </tr>\n",
       "    <tr>\n",
       "      <th>9</th>\n",
       "      <td>2023-01-01 09:00:00</td>\n",
       "      <td>310.37814</td>\n",
       "      <td>Very Poor</td>\n",
       "    </tr>\n",
       "    <tr>\n",
       "      <th>10</th>\n",
       "      <td>2023-01-01 10:00:00</td>\n",
       "      <td>359.41</td>\n",
       "      <td>Very Poor</td>\n",
       "    </tr>\n",
       "    <tr>\n",
       "      <th>11</th>\n",
       "      <td>2023-01-01 11:00:00</td>\n",
       "      <td>420.012771</td>\n",
       "      <td>Severe</td>\n",
       "    </tr>\n",
       "    <tr>\n",
       "      <th>12</th>\n",
       "      <td>2023-01-01 12:00:00</td>\n",
       "      <td>454.44012</td>\n",
       "      <td>Severe</td>\n",
       "    </tr>\n",
       "    <tr>\n",
       "      <th>13</th>\n",
       "      <td>2023-01-01 13:00:00</td>\n",
       "      <td>497.288434</td>\n",
       "      <td>Severe</td>\n",
       "    </tr>\n",
       "    <tr>\n",
       "      <th>14</th>\n",
       "      <td>2023-01-01 14:00:00</td>\n",
       "      <td>162.57</td>\n",
       "      <td>Moderate</td>\n",
       "    </tr>\n",
       "    <tr>\n",
       "      <th>15</th>\n",
       "      <td>2023-01-01 15:00:00</td>\n",
       "      <td>163.95</td>\n",
       "      <td>Moderate</td>\n",
       "    </tr>\n",
       "    <tr>\n",
       "      <th>16</th>\n",
       "      <td>2023-01-01 16:00:00</td>\n",
       "      <td>166.69</td>\n",
       "      <td>Moderate</td>\n",
       "    </tr>\n",
       "    <tr>\n",
       "      <th>17</th>\n",
       "      <td>2023-01-01 17:00:00</td>\n",
       "      <td>172.17</td>\n",
       "      <td>Moderate</td>\n",
       "    </tr>\n",
       "    <tr>\n",
       "      <th>18</th>\n",
       "      <td>2023-01-01 18:00:00</td>\n",
       "      <td>169.43</td>\n",
       "      <td>Moderate</td>\n",
       "    </tr>\n",
       "    <tr>\n",
       "      <th>19</th>\n",
       "      <td>2023-01-01 19:00:00</td>\n",
       "      <td>159.83</td>\n",
       "      <td>Moderate</td>\n",
       "    </tr>\n",
       "    <tr>\n",
       "      <th>20</th>\n",
       "      <td>2023-01-01 20:00:00</td>\n",
       "      <td>150.24</td>\n",
       "      <td>Moderate</td>\n",
       "    </tr>\n",
       "    <tr>\n",
       "      <th>21</th>\n",
       "      <td>2023-01-01 21:00:00</td>\n",
       "      <td>140.64</td>\n",
       "      <td>Moderate</td>\n",
       "    </tr>\n",
       "    <tr>\n",
       "      <th>22</th>\n",
       "      <td>2023-01-01 22:00:00</td>\n",
       "      <td>120.08</td>\n",
       "      <td>Moderate</td>\n",
       "    </tr>\n",
       "    <tr>\n",
       "      <th>23</th>\n",
       "      <td>2023-01-01 23:00:00</td>\n",
       "      <td>91.745385</td>\n",
       "      <td>Satisfactory</td>\n",
       "    </tr>\n",
       "    <tr>\n",
       "      <th>24</th>\n",
       "      <td>2023-01-02 00:00:00</td>\n",
       "      <td>85.614103</td>\n",
       "      <td>Satisfactory</td>\n",
       "    </tr>\n",
       "  </tbody>\n",
       "</table>\n",
       "</div>"
      ],
      "text/plain": [
       "                  date AQI_calculated AQI_bucket_calculated\n",
       "0  2023-01-01 00:00:00     338.059767             Very Poor\n",
       "1  2023-01-01 01:00:00     348.458605             Very Poor\n",
       "2  2023-01-01 02:00:00     377.168605             Very Poor\n",
       "3  2023-01-01 03:00:00     401.755422                Severe\n",
       "4  2023-01-01 04:00:00     407.106988                Severe\n",
       "5  2023-01-01 05:00:00     411.154458                Severe\n",
       "6  2023-01-01 06:00:00     418.653012                Severe\n",
       "7  2023-01-01 07:00:00     330.032326             Very Poor\n",
       "8  2023-01-01 08:00:00     311.276047             Very Poor\n",
       "9  2023-01-01 09:00:00      310.37814             Very Poor\n",
       "10 2023-01-01 10:00:00         359.41             Very Poor\n",
       "11 2023-01-01 11:00:00     420.012771                Severe\n",
       "12 2023-01-01 12:00:00      454.44012                Severe\n",
       "13 2023-01-01 13:00:00     497.288434                Severe\n",
       "14 2023-01-01 14:00:00         162.57              Moderate\n",
       "15 2023-01-01 15:00:00         163.95              Moderate\n",
       "16 2023-01-01 16:00:00         166.69              Moderate\n",
       "17 2023-01-01 17:00:00         172.17              Moderate\n",
       "18 2023-01-01 18:00:00         169.43              Moderate\n",
       "19 2023-01-01 19:00:00         159.83              Moderate\n",
       "20 2023-01-01 20:00:00         150.24              Moderate\n",
       "21 2023-01-01 21:00:00         140.64              Moderate\n",
       "22 2023-01-01 22:00:00         120.08              Moderate\n",
       "23 2023-01-01 23:00:00      91.745385          Satisfactory\n",
       "24 2023-01-02 00:00:00      85.614103          Satisfactory"
      ]
     },
     "execution_count": 124,
     "metadata": {},
     "output_type": "execute_result"
    }
   ],
   "source": [
    "df[~df[\"AQI_calculated\"].isna()][[\n",
    "    \"date\", \"AQI_calculated\", \"AQI_bucket_calculated\"\n",
    "]].head(25)\n"
   ]
  },
  {
   "cell_type": "code",
   "execution_count": null,
   "id": "a587eaa3-84af-41f6-89a7-ffdcaa72ea4b",
   "metadata": {},
   "outputs": [],
   "source": []
  },
  {
   "cell_type": "code",
   "execution_count": null,
   "id": "eaf234b5-1d93-46a0-8766-dde633105d08",
   "metadata": {},
   "outputs": [],
   "source": []
  },
  {
   "cell_type": "code",
   "execution_count": null,
   "id": "1cfe186b-1522-478d-97b8-b2b4956c5fc9",
   "metadata": {},
   "outputs": [],
   "source": []
  },
  {
   "cell_type": "code",
   "execution_count": null,
   "id": "3ea5498f-0c74-4145-9ea1-78afbe9d5991",
   "metadata": {},
   "outputs": [],
   "source": []
  },
  {
   "cell_type": "code",
   "execution_count": null,
   "id": "58f4d3b5-1392-4ed2-90f1-a4e499d11bf7",
   "metadata": {},
   "outputs": [],
   "source": [
    "from sklearn.linear_model import LinearRegression\n",
    "\n",
    "# Create a time step column\n",
    "df['time_step'] = range(len(df))\n",
    "\n",
    "# Set up input (X) and output (y)\n",
    "X = df[['time_step']]  # must be 2D\n",
    "y = df['co']\n",
    "\n",
    "# Fit the model\n",
    "model = LinearRegression()\n",
    "model.fit(X, y)\n",
    "\n",
    "# Predict CO values\n",
    "y_pred = model.predict(X)\n",
    "\n",
    "# Plotting\n",
    "plt.figure(figsize=(12, 6))\n",
    "plt.plot(df.index, y, label='Actual CO', color='blue', linewidth=1.5)\n",
    "plt.plot(df.index, y_pred, label='Predicted CO (Trend)', color='red', linestyle='--')\n",
    "plt.title('CO Levels Over Time with Linear Trend')\n",
    "plt.xlabel('Date')\n",
    "plt.ylabel('CO Concentration')\n",
    "plt.legend()\n",
    "plt.grid(alpha=0.3)\n",
    "plt.tight_layout()\n",
    "plt.show()\n"
   ]
  },
  {
   "cell_type": "markdown",
   "id": "e5bf410a-d845-44fe-a5a0-e1b1d9866c1b",
   "metadata": {},
   "source": [
    "From morning of 9AM to 2PM WE SEE A SUDDEN SSURGE IN THE CO LEVELS AS COMAPRED TO ANY OTHER POLLUTANTS, decreases a \n"
   ]
  },
  {
   "cell_type": "code",
   "execution_count": null,
   "id": "a599ad73-0e1e-481f-8e95-3dccd143923d",
   "metadata": {},
   "outputs": [],
   "source": [
    "print(daily_avg.index)"
   ]
  },
  {
   "cell_type": "code",
   "execution_count": null,
   "id": "05c0da6e-1090-4770-af77-a1f783a5948c",
   "metadata": {},
   "outputs": [],
   "source": [
    "df.isnull().sum()              "
   ]
  },
  {
   "cell_type": "code",
   "execution_count": null,
   "id": "353075ae-6e29-4ba9-9eb3-4518a2b56bf9",
   "metadata": {},
   "outputs": [],
   "source": []
  }
 ],
 "metadata": {
  "kernelspec": {
   "display_name": "Python 3 (ipykernel)",
   "language": "python",
   "name": "python3"
  },
  "language_info": {
   "codemirror_mode": {
    "name": "ipython",
    "version": 3
   },
   "file_extension": ".py",
   "mimetype": "text/x-python",
   "name": "python",
   "nbconvert_exporter": "python",
   "pygments_lexer": "ipython3",
   "version": "3.12.4"
  }
 },
 "nbformat": 4,
 "nbformat_minor": 5
}
